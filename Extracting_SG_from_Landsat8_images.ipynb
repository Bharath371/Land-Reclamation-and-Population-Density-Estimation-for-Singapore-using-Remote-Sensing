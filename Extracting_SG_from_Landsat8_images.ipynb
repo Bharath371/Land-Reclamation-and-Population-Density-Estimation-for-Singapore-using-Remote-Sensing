{
 "cells": [
  {
   "cell_type": "code",
   "execution_count": 1,
   "metadata": {},
   "outputs": [],
   "source": [
    "import numpy as np\n",
    "import pandas as pd\n",
    "import matplotlib.pyplot as plt\n",
    "import seaborn as sns\n",
    "import rasterio as rio\n",
    "from rasterio.plot import show\n",
    "from rasterio.plot import show_hist\n",
    "from rasterio import mask\n",
    "import os\n",
    "import fiona"
   ]
  },
  {
   "cell_type": "code",
   "execution_count": null,
   "metadata": {},
   "outputs": [],
   "source": []
  },
  {
   "cell_type": "code",
   "execution_count": 2,
   "metadata": {},
   "outputs": [
    {
     "name": "stdout",
     "output_type": "stream",
     "text": [
      "/c/Users/Bharath/anaconda3/envs/SG_Land_Reclamation_analysis\n"
     ]
    }
   ],
   "source": [
    "!pwd"
   ]
  },
  {
   "cell_type": "code",
   "execution_count": 3,
   "metadata": {},
   "outputs": [
    {
     "name": "stdout",
     "output_type": "stream",
     "text": [
      "Approx_SG.kml\n",
      "debug.log\n",
      "Extracting SG from Landsat 8 images.ipynb\n",
      "HDB data\n",
      "Image_processing_experiments2.ipynb\n",
      "Landsat8_image_analysis_FINAL.ipynb\n",
      "Landsat8_image_processing_experimentation.ipynb\n",
      "Population_density_and_Housing_density_analysis.ipynb\n",
      "SG_cropped_Landsat8_images\n",
      "SG_Landsat8_images\n",
      "SG_shapefiles\n"
     ]
    }
   ],
   "source": [
    "!ls"
   ]
  },
  {
   "cell_type": "code",
   "execution_count": 4,
   "metadata": {},
   "outputs": [],
   "source": [
    "os.chdir('SG_Landsat8_images/')\n"
   ]
  },
  {
   "cell_type": "code",
   "execution_count": 5,
   "metadata": {},
   "outputs": [
    {
     "name": "stdout",
     "output_type": "stream",
     "text": [
      "/c/Users/Bharath/anaconda3/envs/SG_Land_Reclamation_analysis/SG_Landsat8_images\n"
     ]
    }
   ],
   "source": [
    "!pwd"
   ]
  },
  {
   "cell_type": "code",
   "execution_count": 6,
   "metadata": {},
   "outputs": [
    {
     "name": "stdout",
     "output_type": "stream",
     "text": [
      "LC08_L1TP_125059_20130627_20170503_01_T1.tar\n",
      "LC08_L1TP_125059_20140427_20170423_01_T1.tar\n",
      "LC08_L1TP_125059_20141020_20170418_01_T1.tar\n",
      "LC08_L1TP_125059_20150601_20170408_01_T1.tar\n",
      "LC08_L1TP_125059_20160923_20170320_01_T1.tar\n",
      "LC08_L1TP_125059_20170419_20170501_01_T1.tar\n",
      "LC08_L1TP_125059_20180929_20181009_01_T1.tar\n",
      "LC08_L1TP_125059_20190916_20190925_01_T1.tar\n",
      "LC08_L1TP_125059_20200310_20200314_01_T1.tar\n"
     ]
    }
   ],
   "source": [
    "!ls"
   ]
  },
  {
   "cell_type": "code",
   "execution_count": null,
   "metadata": {},
   "outputs": [],
   "source": []
  },
  {
   "cell_type": "code",
   "execution_count": 7,
   "metadata": {},
   "outputs": [
    {
     "name": "stdout",
     "output_type": "stream",
     "text": [
      "LC08_L1TP_125059_20200310_20200314_01_T1_ANG.txt\n",
      "LC08_L1TP_125059_20200310_20200314_01_T1_B1.TIF\n",
      "LC08_L1TP_125059_20200310_20200314_01_T1_B10.TIF\n",
      "LC08_L1TP_125059_20200310_20200314_01_T1_B11.TIF\n",
      "LC08_L1TP_125059_20200310_20200314_01_T1_B2.TIF\n",
      "LC08_L1TP_125059_20200310_20200314_01_T1_B3.TIF\n",
      "LC08_L1TP_125059_20200310_20200314_01_T1_B4.TIF\n",
      "LC08_L1TP_125059_20200310_20200314_01_T1_B5.TIF\n",
      "LC08_L1TP_125059_20200310_20200314_01_T1_B6.TIF\n",
      "LC08_L1TP_125059_20200310_20200314_01_T1_B7.TIF\n",
      "LC08_L1TP_125059_20200310_20200314_01_T1_B8.TIF\n",
      "LC08_L1TP_125059_20200310_20200314_01_T1_B9.TIF\n",
      "LC08_L1TP_125059_20200310_20200314_01_T1_BQA.TIF\n",
      "LC08_L1TP_125059_20200310_20200314_01_T1_MTL.txt\n"
     ]
    }
   ],
   "source": [
    "os.chdir('LC08_L1TP_125059_20200310_20200314_01_T1.tar/')\n",
    "!ls\n",
    "\n",
    "Bands_2020 = {}\n",
    "\n",
    "for i in range(1,12):\n",
    "    var = 'imgB'+str(i)\n",
    "    \n",
    "    img_file = 'LC08_L1TP_125059_20200310_20200314_01_T1_B' + str(i) + '.TIF'\n",
    "    Bands_2020[var] = rio.open(img_file, 'r')\n",
    "\n",
    "#print(Bands_2020)\n",
    "\n",
    "os.chdir('..')"
   ]
  },
  {
   "cell_type": "code",
   "execution_count": null,
   "metadata": {},
   "outputs": [],
   "source": []
  },
  {
   "cell_type": "code",
   "execution_count": 8,
   "metadata": {},
   "outputs": [
    {
     "name": "stdout",
     "output_type": "stream",
     "text": [
      "LC08_L1TP_125059_20190916_20190925_01_T1_ANG.txt\n",
      "LC08_L1TP_125059_20190916_20190925_01_T1_B1.TIF\n",
      "LC08_L1TP_125059_20190916_20190925_01_T1_B10.TIF\n",
      "LC08_L1TP_125059_20190916_20190925_01_T1_B11.TIF\n",
      "LC08_L1TP_125059_20190916_20190925_01_T1_B2.TIF\n",
      "LC08_L1TP_125059_20190916_20190925_01_T1_B3.TIF\n",
      "LC08_L1TP_125059_20190916_20190925_01_T1_B4.TIF\n",
      "LC08_L1TP_125059_20190916_20190925_01_T1_B5.TIF\n",
      "LC08_L1TP_125059_20190916_20190925_01_T1_B6.TIF\n",
      "LC08_L1TP_125059_20190916_20190925_01_T1_B7.TIF\n",
      "LC08_L1TP_125059_20190916_20190925_01_T1_B8.TIF\n",
      "LC08_L1TP_125059_20190916_20190925_01_T1_B9.TIF\n",
      "LC08_L1TP_125059_20190916_20190925_01_T1_BQA.TIF\n",
      "LC08_L1TP_125059_20190916_20190925_01_T1_MTL.txt\n"
     ]
    }
   ],
   "source": [
    "os.chdir('LC08_L1TP_125059_20190916_20190925_01_T1.tar')\n",
    "!ls\n",
    "\n",
    "Bands_2019 = {}\n",
    "\n",
    "for i in range(1,12):\n",
    "    var = 'imgB'+str(i)\n",
    "    \n",
    "    img_file = 'LC08_L1TP_125059_20190916_20190925_01_T1_B' + str(i) + '.TIF'\n",
    "    Bands_2019[var] = rio.open(img_file, 'r')\n",
    "\n",
    "#print(Bands_2019)\n",
    "\n",
    "os.chdir('..')"
   ]
  },
  {
   "cell_type": "code",
   "execution_count": null,
   "metadata": {},
   "outputs": [],
   "source": []
  },
  {
   "cell_type": "code",
   "execution_count": 9,
   "metadata": {},
   "outputs": [
    {
     "name": "stdout",
     "output_type": "stream",
     "text": [
      "LC08_L1TP_125059_20180929_20181009_01_T1_ANG.txt\n",
      "LC08_L1TP_125059_20180929_20181009_01_T1_B1.TIF\n",
      "LC08_L1TP_125059_20180929_20181009_01_T1_B10.TIF\n",
      "LC08_L1TP_125059_20180929_20181009_01_T1_B11.TIF\n",
      "LC08_L1TP_125059_20180929_20181009_01_T1_B2.TIF\n",
      "LC08_L1TP_125059_20180929_20181009_01_T1_B3.TIF\n",
      "LC08_L1TP_125059_20180929_20181009_01_T1_B4.TIF\n",
      "LC08_L1TP_125059_20180929_20181009_01_T1_B5.TIF\n",
      "LC08_L1TP_125059_20180929_20181009_01_T1_B6.TIF\n",
      "LC08_L1TP_125059_20180929_20181009_01_T1_B7.TIF\n",
      "LC08_L1TP_125059_20180929_20181009_01_T1_B8.TIF\n",
      "LC08_L1TP_125059_20180929_20181009_01_T1_B9.TIF\n",
      "LC08_L1TP_125059_20180929_20181009_01_T1_BQA.TIF\n",
      "LC08_L1TP_125059_20180929_20181009_01_T1_MTL.txt\n"
     ]
    }
   ],
   "source": [
    "os.chdir('LC08_L1TP_125059_20180929_20181009_01_T1.tar')\n",
    "!ls\n",
    "\n",
    "Bands_2018 = {}\n",
    "\n",
    "for i in range(1,12):\n",
    "    var = 'imgB'+str(i)\n",
    "    \n",
    "    img_file = 'LC08_L1TP_125059_20180929_20181009_01_T1_B' + str(i) + '.TIF'\n",
    "    Bands_2018[var] = rio.open(img_file, 'r')\n",
    "\n",
    "#print(Bands_2018)\n",
    "\n",
    "os.chdir('..')"
   ]
  },
  {
   "cell_type": "code",
   "execution_count": null,
   "metadata": {},
   "outputs": [],
   "source": []
  },
  {
   "cell_type": "code",
   "execution_count": 10,
   "metadata": {},
   "outputs": [
    {
     "name": "stdout",
     "output_type": "stream",
     "text": [
      "LC08_L1TP_125059_20170419_20170501_01_T1_ANG.txt\n",
      "LC08_L1TP_125059_20170419_20170501_01_T1_B1.TIF\n",
      "LC08_L1TP_125059_20170419_20170501_01_T1_B10.TIF\n",
      "LC08_L1TP_125059_20170419_20170501_01_T1_B11.TIF\n",
      "LC08_L1TP_125059_20170419_20170501_01_T1_B2.TIF\n",
      "LC08_L1TP_125059_20170419_20170501_01_T1_B3.TIF\n",
      "LC08_L1TP_125059_20170419_20170501_01_T1_B4.TIF\n",
      "LC08_L1TP_125059_20170419_20170501_01_T1_B5.TIF\n",
      "LC08_L1TP_125059_20170419_20170501_01_T1_B6.TIF\n",
      "LC08_L1TP_125059_20170419_20170501_01_T1_B7.TIF\n",
      "LC08_L1TP_125059_20170419_20170501_01_T1_B8.TIF\n",
      "LC08_L1TP_125059_20170419_20170501_01_T1_B9.TIF\n",
      "LC08_L1TP_125059_20170419_20170501_01_T1_BQA.TIF\n",
      "LC08_L1TP_125059_20170419_20170501_01_T1_MTL.txt\n"
     ]
    }
   ],
   "source": [
    "os.chdir('LC08_L1TP_125059_20170419_20170501_01_T1.tar')\n",
    "!ls\n",
    "\n",
    "Bands_2017 = {}\n",
    "\n",
    "for i in range(1,12):\n",
    "    var = 'imgB'+str(i)\n",
    "    \n",
    "    img_file = 'LC08_L1TP_125059_20170419_20170501_01_T1_B' + str(i) + '.TIF'\n",
    "    Bands_2017[var] = rio.open(img_file, 'r')\n",
    "\n",
    "#print(Bands_2017)\n",
    "\n",
    "os.chdir('..')"
   ]
  },
  {
   "cell_type": "code",
   "execution_count": null,
   "metadata": {},
   "outputs": [],
   "source": []
  },
  {
   "cell_type": "code",
   "execution_count": 11,
   "metadata": {},
   "outputs": [
    {
     "name": "stdout",
     "output_type": "stream",
     "text": [
      "LC08_L1TP_125059_20160923_20170320_01_T1_ANG.txt\n",
      "LC08_L1TP_125059_20160923_20170320_01_T1_B1.TIF\n",
      "LC08_L1TP_125059_20160923_20170320_01_T1_B10.TIF\n",
      "LC08_L1TP_125059_20160923_20170320_01_T1_B11.TIF\n",
      "LC08_L1TP_125059_20160923_20170320_01_T1_B2.TIF\n",
      "LC08_L1TP_125059_20160923_20170320_01_T1_B3.TIF\n",
      "LC08_L1TP_125059_20160923_20170320_01_T1_B4.TIF\n",
      "LC08_L1TP_125059_20160923_20170320_01_T1_B5.TIF\n",
      "LC08_L1TP_125059_20160923_20170320_01_T1_B6.TIF\n",
      "LC08_L1TP_125059_20160923_20170320_01_T1_B7.TIF\n",
      "LC08_L1TP_125059_20160923_20170320_01_T1_B8.TIF\n",
      "LC08_L1TP_125059_20160923_20170320_01_T1_B9.TIF\n",
      "LC08_L1TP_125059_20160923_20170320_01_T1_BQA.TIF\n",
      "LC08_L1TP_125059_20160923_20170320_01_T1_MTL.txt\n"
     ]
    }
   ],
   "source": [
    "os.chdir('LC08_L1TP_125059_20160923_20170320_01_T1.tar')\n",
    "!ls\n",
    "\n",
    "Bands_2016 = {}\n",
    "\n",
    "for i in range(1,12):\n",
    "    var = 'imgB'+str(i)\n",
    "    \n",
    "    img_file = 'LC08_L1TP_125059_20160923_20170320_01_T1_B' + str(i) + '.TIF'\n",
    "    Bands_2016[var] = rio.open(img_file, 'r')\n",
    "\n",
    "#print(Bands_2016)\n",
    "\n",
    "os.chdir('..')"
   ]
  },
  {
   "cell_type": "code",
   "execution_count": null,
   "metadata": {},
   "outputs": [],
   "source": []
  },
  {
   "cell_type": "code",
   "execution_count": 12,
   "metadata": {},
   "outputs": [
    {
     "name": "stdout",
     "output_type": "stream",
     "text": [
      "LC08_L1TP_125059_20150601_20170408_01_T1_ANG.txt\n",
      "LC08_L1TP_125059_20150601_20170408_01_T1_B1.TIF\n",
      "LC08_L1TP_125059_20150601_20170408_01_T1_B10.TIF\n",
      "LC08_L1TP_125059_20150601_20170408_01_T1_B11.TIF\n",
      "LC08_L1TP_125059_20150601_20170408_01_T1_B2.TIF\n",
      "LC08_L1TP_125059_20150601_20170408_01_T1_B3.TIF\n",
      "LC08_L1TP_125059_20150601_20170408_01_T1_B4.TIF\n",
      "LC08_L1TP_125059_20150601_20170408_01_T1_B5.TIF\n",
      "LC08_L1TP_125059_20150601_20170408_01_T1_B6.TIF\n",
      "LC08_L1TP_125059_20150601_20170408_01_T1_B7.TIF\n",
      "LC08_L1TP_125059_20150601_20170408_01_T1_B8.TIF\n",
      "LC08_L1TP_125059_20150601_20170408_01_T1_B9.TIF\n",
      "LC08_L1TP_125059_20150601_20170408_01_T1_BQA.TIF\n",
      "LC08_L1TP_125059_20150601_20170408_01_T1_MTL.txt\n"
     ]
    }
   ],
   "source": [
    "os.chdir('LC08_L1TP_125059_20150601_20170408_01_T1.tar')\n",
    "!ls\n",
    "\n",
    "Bands_2015 = {}\n",
    "\n",
    "for i in range(1,12):\n",
    "    var = 'imgB'+str(i)\n",
    "    \n",
    "    img_file = 'LC08_L1TP_125059_20150601_20170408_01_T1_B' + str(i) + '.TIF'\n",
    "    Bands_2015[var] = rio.open(img_file, 'r')\n",
    "\n",
    "\n",
    "os.chdir('..')"
   ]
  },
  {
   "cell_type": "code",
   "execution_count": null,
   "metadata": {},
   "outputs": [],
   "source": []
  },
  {
   "cell_type": "code",
   "execution_count": 13,
   "metadata": {},
   "outputs": [
    {
     "name": "stdout",
     "output_type": "stream",
     "text": [
      "LC08_L1TP_125059_20141020_20170418_01_T1_ANG.txt\n",
      "LC08_L1TP_125059_20141020_20170418_01_T1_B1.TIF\n",
      "LC08_L1TP_125059_20141020_20170418_01_T1_B10.TIF\n",
      "LC08_L1TP_125059_20141020_20170418_01_T1_B11.TIF\n",
      "LC08_L1TP_125059_20141020_20170418_01_T1_B2.TIF\n",
      "LC08_L1TP_125059_20141020_20170418_01_T1_B3.TIF\n",
      "LC08_L1TP_125059_20141020_20170418_01_T1_B4.TIF\n",
      "LC08_L1TP_125059_20141020_20170418_01_T1_B5.TIF\n",
      "LC08_L1TP_125059_20141020_20170418_01_T1_B6.TIF\n",
      "LC08_L1TP_125059_20141020_20170418_01_T1_B7.TIF\n",
      "LC08_L1TP_125059_20141020_20170418_01_T1_B8.TIF\n",
      "LC08_L1TP_125059_20141020_20170418_01_T1_B9.TIF\n",
      "LC08_L1TP_125059_20141020_20170418_01_T1_BQA.TIF\n",
      "LC08_L1TP_125059_20141020_20170418_01_T1_MTL.txt\n"
     ]
    }
   ],
   "source": [
    "os.chdir('LC08_L1TP_125059_20141020_20170418_01_T1.tar')\n",
    "!ls\n",
    "\n",
    "Bands_2014 = {}\n",
    "\n",
    "for i in range(1,12):\n",
    "    var = 'imgB'+str(i)\n",
    "    \n",
    "    img_file = 'LC08_L1TP_125059_20141020_20170418_01_T1_B' + str(i) + '.TIF'\n",
    "    Bands_2014[var] = rio.open(img_file, 'r')\n",
    "\n",
    "\n",
    "os.chdir('..')"
   ]
  },
  {
   "cell_type": "code",
   "execution_count": null,
   "metadata": {},
   "outputs": [],
   "source": []
  },
  {
   "cell_type": "code",
   "execution_count": 14,
   "metadata": {},
   "outputs": [
    {
     "name": "stdout",
     "output_type": "stream",
     "text": [
      "LC08_L1TP_125059_20130627_20170503_01_T1_ANG.txt\n",
      "LC08_L1TP_125059_20130627_20170503_01_T1_B1.TIF\n",
      "LC08_L1TP_125059_20130627_20170503_01_T1_B10.TIF\n",
      "LC08_L1TP_125059_20130627_20170503_01_T1_B11.TIF\n",
      "LC08_L1TP_125059_20130627_20170503_01_T1_B2.TIF\n",
      "LC08_L1TP_125059_20130627_20170503_01_T1_B3.TIF\n",
      "LC08_L1TP_125059_20130627_20170503_01_T1_B4.TIF\n",
      "LC08_L1TP_125059_20130627_20170503_01_T1_B5.TIF\n",
      "LC08_L1TP_125059_20130627_20170503_01_T1_B6.TIF\n",
      "LC08_L1TP_125059_20130627_20170503_01_T1_B7.TIF\n",
      "LC08_L1TP_125059_20130627_20170503_01_T1_B8.TIF\n",
      "LC08_L1TP_125059_20130627_20170503_01_T1_B9.TIF\n",
      "LC08_L1TP_125059_20130627_20170503_01_T1_BQA.TIF\n",
      "LC08_L1TP_125059_20130627_20170503_01_T1_MTL.txt\n"
     ]
    }
   ],
   "source": [
    "os.chdir('LC08_L1TP_125059_20130627_20170503_01_T1.tar')\n",
    "!ls\n",
    "\n",
    "Bands_2013 = {}\n",
    "\n",
    "for i in range(1,12):\n",
    "    var = 'imgB'+str(i)\n",
    "    \n",
    "    img_file = 'LC08_L1TP_125059_20130627_20170503_01_T1_B' + str(i) + '.TIF'\n",
    "    Bands_2013[var] = rio.open(img_file, 'r')\n",
    "\n",
    "\n",
    "os.chdir('..')"
   ]
  },
  {
   "cell_type": "code",
   "execution_count": null,
   "metadata": {},
   "outputs": [],
   "source": []
  },
  {
   "cell_type": "code",
   "execution_count": 15,
   "metadata": {},
   "outputs": [
    {
     "name": "stdout",
     "output_type": "stream",
     "text": [
      "/c/Users/Bharath/anaconda3/envs/SG_Land_Reclamation_analysis/SG_Landsat8_images\n"
     ]
    }
   ],
   "source": [
    "!pwd"
   ]
  },
  {
   "cell_type": "code",
   "execution_count": 16,
   "metadata": {},
   "outputs": [],
   "source": [
    "os.chdir('..')"
   ]
  },
  {
   "cell_type": "code",
   "execution_count": 17,
   "metadata": {},
   "outputs": [
    {
     "name": "stdout",
     "output_type": "stream",
     "text": [
      "/c/Users/Bharath/anaconda3/envs/SG_Land_Reclamation_analysis\n"
     ]
    }
   ],
   "source": [
    "!pwd\n"
   ]
  },
  {
   "cell_type": "code",
   "execution_count": 18,
   "metadata": {},
   "outputs": [
    {
     "name": "stdout",
     "output_type": "stream",
     "text": [
      "Approx_SG.kml\n",
      "debug.log\n",
      "Extracting SG from Landsat 8 images.ipynb\n",
      "HDB data\n",
      "Image_processing_experiments2.ipynb\n",
      "Landsat8_image_analysis_FINAL.ipynb\n",
      "Landsat8_image_processing_experimentation.ipynb\n",
      "Population_density_and_Housing_density_analysis.ipynb\n",
      "SG_cropped_Landsat8_images\n",
      "SG_Landsat8_images\n",
      "SG_shapefiles\n"
     ]
    }
   ],
   "source": [
    "!ls"
   ]
  },
  {
   "cell_type": "code",
   "execution_count": null,
   "metadata": {},
   "outputs": [],
   "source": []
  },
  {
   "cell_type": "markdown",
   "metadata": {},
   "source": [
    "#### Function to extract Singapore (SG) from Landsat 8 images (path: 125, row: 059)\n",
    "\n",
    "The downloaded Landsat 8 Images contain a large area that covers Malaysia and Indonesia in addition to Singapore.\n",
    "This function uses a shapefile for Singapore that was made by carefully drawing a region of interest around Singapore on Google Earth.\n",
    "\n",
    "- This reduces the size of each Band by approximately 25 times.\n",
    "\n",
    "- The downloaded files can be used for further analysis and will consume much lesser space.\n",
    "\n",
    "- Faster experimentation with different Landsat image Bands."
   ]
  },
  {
   "cell_type": "code",
   "execution_count": 19,
   "metadata": {},
   "outputs": [],
   "source": [
    "# Code for this function to use shapefiles to crop Landsat images taken \n",
    "# from Remote Sensing summer short course by Prof. Arvind Narayanaswamy\n",
    "\n",
    "def getSG(dictionary):\n",
    "    Bands = dictionary    \n",
    "    op_dict = {}\n",
    "    \n",
    "    SG_shp = fiona.open('SG_shapefiles/SG_shapefile.shp', 'r')\n",
    "    features = [feature[\"geometry\"] for feature in SG_shp]\n",
    "    \n",
    "    num = 0\n",
    "    \n",
    "    for i in range(len(Bands)):\n",
    "        num += 1\n",
    "        key = 'imgB' + str(num)\n",
    "        out_image, out_transform = mask.mask(Bands[key], features, crop=True)\n",
    "        \n",
    "        out_meta = Bands[key].meta.copy()\n",
    "        out_meta.update({\"driver\":\"GTiff\", \"height\": out_image.shape[1], \"width\": out_image.shape[2], \"transform\": out_transform})\n",
    "        \n",
    "        dest_file_name = \"SG\" + key + \".tif\"\n",
    "        \n",
    "        with rio.open(dest_file_name, \"w\", **out_meta) as dest:\n",
    "            dest.write(out_image)\n",
    "        "
   ]
  },
  {
   "cell_type": "code",
   "execution_count": null,
   "metadata": {},
   "outputs": [],
   "source": []
  },
  {
   "cell_type": "code",
   "execution_count": 20,
   "metadata": {},
   "outputs": [],
   "source": [
    "getSG(Bands_2020)"
   ]
  },
  {
   "cell_type": "code",
   "execution_count": 21,
   "metadata": {},
   "outputs": [],
   "source": [
    "getSG(Bands_2019)"
   ]
  },
  {
   "cell_type": "code",
   "execution_count": 22,
   "metadata": {},
   "outputs": [],
   "source": [
    "getSG(Bands_2018)"
   ]
  },
  {
   "cell_type": "code",
   "execution_count": 23,
   "metadata": {},
   "outputs": [],
   "source": [
    "getSG(Bands_2017)"
   ]
  },
  {
   "cell_type": "code",
   "execution_count": 24,
   "metadata": {},
   "outputs": [],
   "source": [
    "getSG(Bands_2016)"
   ]
  },
  {
   "cell_type": "code",
   "execution_count": 25,
   "metadata": {},
   "outputs": [],
   "source": [
    "getSG(Bands_2015)"
   ]
  },
  {
   "cell_type": "code",
   "execution_count": 26,
   "metadata": {},
   "outputs": [],
   "source": [
    "getSG(Bands_2014)"
   ]
  },
  {
   "cell_type": "code",
   "execution_count": 27,
   "metadata": {},
   "outputs": [],
   "source": [
    "getSG(Bands_2013)"
   ]
  },
  {
   "cell_type": "code",
   "execution_count": null,
   "metadata": {},
   "outputs": [],
   "source": []
  },
  {
   "cell_type": "code",
   "execution_count": null,
   "metadata": {},
   "outputs": [],
   "source": []
  }
 ],
 "metadata": {
  "kernelspec": {
   "display_name": "Python 3",
   "language": "python",
   "name": "python3"
  },
  "language_info": {
   "codemirror_mode": {
    "name": "ipython",
    "version": 3
   },
   "file_extension": ".py",
   "mimetype": "text/x-python",
   "name": "python",
   "nbconvert_exporter": "python",
   "pygments_lexer": "ipython3",
   "version": "3.8.6"
  }
 },
 "nbformat": 4,
 "nbformat_minor": 4
}
